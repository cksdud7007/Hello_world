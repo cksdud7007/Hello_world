{
 "cells": [
  {
   "cell_type": "markdown",
   "metadata": {
    "id": "FbNCMYMk_1fP"
   },
   "source": [
    "\n",
    "$$\n",
    "\\text{cohesion}(n) = \\left( \\prod_{i=1}^{n-1} P(c_{1:i+1} | c_{1:i}) \\right)^{\\frac{1}{n-1}}\n",
    "$$\n",
    "\n",
    "\n",
    "\n",
    "\n",
    "* $cohesion(2) = P(노란 | 노)$\n",
    "* $cohesion(3) = \\sqrt[2]{\\left( P(노란 | 노) \\cdot P(노란색 | 노란) \\right)}$"
   ]
  },
  {
   "cell_type": "markdown",
   "metadata": {
    "id": "HUL5LQW0_x6_"
   },
   "source": [
    "### Soynlp 설치"
   ]
  },
  {
   "cell_type": "code",
   "execution_count": null,
   "metadata": {},
   "outputs": [],
   "source": [
    "!pip install soynlp"
   ]
  },
  {
   "cell_type": "markdown",
   "metadata": {
    "id": "doVLKmYm_8G8"
   },
   "source": [
    "### Soynlp로 먼저 말뭉치 만들어서 학습시킨 후 명사 추출하기\n"
   ]
  },
  {
   "cell_type": "code",
   "execution_count": null,
   "metadata": {
    "id": "dzLBDsWY__tg"
   },
   "outputs": [],
   "source": [
    "# 학습시킬 파일 불러오기\n",
    "with open('/content/mnt/Shareddrives/Real_News/찬영/corpus.txt','r',encoding='utf-8') as file:\n",
    "    text = file.readlines()"
   ]
  },
  {
   "cell_type": "code",
   "execution_count": null,
   "metadata": {
    "id": "sU-GxsnmBFgS"
   },
   "outputs": [],
   "source": [
    "# 학습시키기 (가짜뉴스와 진짜뉴스에 있는 명사를 잘 추출해내기 위함 -> mecab사전에 잘 정의되지 않는 명사들이 존재하기 때문)\n",
    "from soynlp.utils import DoublespaceLineCorpus\n",
    "from soynlp.noun import LRNounExtractor_v2\n",
    "\n",
    "\n",
    "noun_extractor = LRNounExtractor_v2(verbose=True)\n",
    "nouns = noun_extractor.train_extract(text)"
   ]
  },
  {
   "cell_type": "code",
   "execution_count": null,
   "metadata": {
    "id": "r8r-SwOGBMIw"
   },
   "outputs": [],
   "source": [
    "# 학습시킨 nouns파일로 명사를 추출해보기\n",
    "tgt_noun = []\n",
    "for noun in nouns:\n",
    "    if (nouns[noun][0] >= 40) and (nouns[noun][1]) >= 0.5: # nouns[noun][0]은 단어의 빈도 수를 나타내고 nouns[noun][1]은 단어의 score를 나타냄 => 파라미터를 어떻게 설정해주냐에 따라 단어가 잘 추출됨을 의미\n",
    "        if len(noun) == 3:   # 일단 예시로 명사길이가 세글자인 것만 추출\n",
    "            tgt_noun.append(noun)"
   ]
  },
  {
   "cell_type": "code",
   "execution_count": null,
   "metadata": {
    "id": "ZlsrhLOVBQx1"
   },
   "outputs": [],
   "source": [
    "tgt_noun"
   ]
  },
  {
   "cell_type": "code",
   "execution_count": null,
   "metadata": {
    "id": "2J-6eXxVBShv"
   },
   "outputs": [],
   "source": [
    "import pandas as pd\n",
    "import re"
   ]
  },
  {
   "cell_type": "code",
   "execution_count": null,
   "metadata": {
    "id": "_NVZVOhwBTyh"
   },
   "outputs": [],
   "source": [
    "# 끝에 잘못 딸린 단어들을 다시 정제해주기로 함.\n",
    "non_noun_eomi_list = ('.', ',', '(',')','들','지')\n",
    "tgt_noun = set([item.strip(\"\"\"\"',.‘“[]()”’ \"\"\") for item in tgt_noun if (item[-1] not in non_noun_eomi_list) \\\n",
    "                        & (sum([1 if char.isdigit() else 0 for char in item]) <= 3) \\\n",
    "                        & (len(re.sub('[^가-힣]', '', item)) <= 3) \\\n",
    "                        & (not re.search('[^가-힣0-9]', item))])"
   ]
  },
  {
   "cell_type": "code",
   "execution_count": null,
   "metadata": {
    "id": "2eqQVyOTBUdL"
   },
   "outputs": [],
   "source": [
    "# 정제된 명사 (데이터 프레임)\n",
    "pd.DataFrame(tgt_noun,columns= ['noun'])"
   ]
  },
  {
   "cell_type": "code",
   "execution_count": null,
   "metadata": {
    "id": "3ffR1foOBW-T"
   },
   "outputs": [],
   "source": [
    "# 데이터프레임으로 만든 명사를 csv파일로 저장 (경로는 사용자지정:일단 만남의 광장으로 지정)\n",
    "pd.DataFrame(tgt_noun,columns= ['noun']).to_csv('/content/mnt/Shareddrives/Real_News/만남의 광장/noun.csv', encoding = 'ANSI')"
   ]
  },
  {
   "cell_type": "markdown",
   "metadata": {
    "id": "gIHoiSnWBw7s"
   },
   "source": [
    "### Soynlp로 만든 명사들로 Mecab 사전 추가해주기"
   ]
  },
  {
   "cell_type": "code",
   "execution_count": null,
   "metadata": {
    "id": "ckLrQMB_24IB"
   },
   "outputs": [],
   "source": [
    "import pandas as pd"
   ]
  },
  {
   "cell_type": "code",
   "execution_count": null,
   "metadata": {
    "id": "wBW7w4M3CQLM"
   },
   "outputs": [],
   "source": [
    "# 파일 불러오기\n",
    "mecab_dict = pd.read_csv('/content/mnt/Shareddrives/Real_News/찬영/noun.csv',encoding='cp949')"
   ]
  },
  {
   "cell_type": "code",
   "execution_count": null,
   "metadata": {
    "id": "BDaMbUP-BxeR"
   },
   "outputs": [],
   "source": [
    "# 먼저 mecab 설치하기\n",
    "! git clone https://github.com/SOMJANG/Mecab-ko-for-Google-Colab.git"
   ]
  },
  {
   "cell_type": "code",
   "execution_count": null,
   "metadata": {
    "id": "xiscZNgnCdSK"
   },
   "outputs": [],
   "source": [
    "cd Mecab-ko-for-Google-Colab"
   ]
  },
  {
   "cell_type": "code",
   "execution_count": null,
   "metadata": {
    "id": "7jC-HJhkCeTX"
   },
   "outputs": [],
   "source": [
    "! bash install_mecab-ko_on_colab190912.sh"
   ]
  },
  {
   "cell_type": "code",
   "execution_count": null,
   "metadata": {
    "id": "9vR1gwFLB0ZD"
   },
   "outputs": [],
   "source": [
    "# mecab 불러오기\n",
    "from konlpy.tag import Mecab"
   ]
  },
  {
   "cell_type": "markdown",
   "metadata": {},
   "source": [
    "사전 추가하기 전 사전작업 (설치)"
   ]
  },
  {
   "cell_type": "code",
   "execution_count": null,
   "metadata": {
    "colab": {
     "base_uri": "https://localhost:8080/"
    },
    "id": "4kS8yb_eB2rU",
    "outputId": "a0330c8b-834e-40b0-83a0-3fdea482e88b"
   },
   "outputs": [
    {
     "name": "stdout",
     "output_type": "stream",
     "text": [
      "/content/mecab-ko-dic-2.1.1-20180720\n"
     ]
    }
   ],
   "source": [
    "cd /content/mecab-ko-dic-2.1.1-20180720"
   ]
  },
  {
   "cell_type": "code",
   "execution_count": null,
   "metadata": {
    "id": "fH6BXBfRC1c_"
   },
   "outputs": [],
   "source": [
    "!pip install jamo"
   ]
  },
  {
   "cell_type": "code",
   "execution_count": null,
   "metadata": {
    "id": "prPiNNWyB4eG"
   },
   "outputs": [],
   "source": [
    "# 종성 여부 함수 정의\n",
    "from jamo import h2j, j2hcj \n",
    "\n",
    "def get_jongsung_TF(sample_text):\n",
    "   sample_text_list = list(sample_text) \n",
    "   last_word = sample_text_list[-1] \n",
    "   last_word_jamo_list = list(j2hcj(h2j(last_word))) \n",
    "   last_jamo = last_word_jamo_list[-1] \n",
    "   jongsung_TF = \"T\" \n",
    "\n",
    "   if last_jamo in ['ㅏ', 'ㅑ', 'ㅓ', 'ㅕ', 'ㅗ', 'ㅛ', 'ㅜ', 'ㅠ', 'ㅡ', 'ㅣ', 'ㅘ', 'ㅚ', 'ㅙ', 'ㅝ', 'ㅞ', 'ㅢ', 'ㅐ,ㅔ', 'ㅟ', 'ㅖ', 'ㅒ']:\n",
    "     jongsung_TF = \"F\" \n",
    "   return jongsung_TF\n"
   ]
  },
  {
   "cell_type": "code",
   "execution_count": null,
   "metadata": {
    "id": "5RLRJ7deB6GD"
   },
   "outputs": [],
   "source": [
    "# mecab_dict 정의 \n",
    "\n",
    "with open(\"./user-dic/nnp.csv\", 'r', encoding='utf-8') as f:  # 여러 파일들이 있는데 저는 이 파일에 넣어줌.\n",
    "  file_data = f.readlines()\n",
    "\n",
    "word_list = mecab_dict['0'].to_list()  # column명이 0으로 되어있어서 0으로 넣어줌\n",
    "\n",
    "# line 부분에 0,1,2는 우선순위를 넣어주기 위함(숫자가 낮아질수록 가장먼저 토큰화 됨.)\n",
    "for word in word_list:\n",
    "  jongsung_TF = get_jongsung_TF(word)\n",
    "  if len(word)>=4:\n",
    "    line = '{},,,0,NNP,*,{},{},*,*,*,*,*\\n'.format(word , jongsung_TF, word)\n",
    "    file_data.append(line)\n",
    "    \n",
    "  elif len(word) == 3:\n",
    "    line = '{},,,1,NNP,*,{},{},*,*,*,*,*\\n'.format(word , jongsung_TF, word)\n",
    "    file_data.append(line)\n",
    "\n",
    "  elif len(word) == 2:\n",
    "    line = '{},,,2,NNP,*,{},{},*,*,*,*,*\\n'.format(word , jongsung_TF, word)\n",
    "    file_data.append(line)\n"
   ]
  },
  {
   "cell_type": "code",
   "execution_count": null,
   "metadata": {
    "id": "gSt3twh6B8i8"
   },
   "outputs": [],
   "source": [
    "# 잘 정의되었는지 보기\n",
    "\n",
    "with open(\"./user-dic/nnp.csv\", 'w', encoding='utf-8') as f:\n",
    "  for line in file_data:\n",
    "    f.write(line)"
   ]
  },
  {
   "cell_type": "markdown",
   "metadata": {
    "id": "SLlAtrZZD31R"
   },
   "source": [
    "##### 사전 추가를 한 후 다시 재업로드 해줘야 됨. => 그래야 사전 추가된 인식 가능"
   ]
  },
  {
   "cell_type": "code",
   "execution_count": null,
   "metadata": {
    "colab": {
     "base_uri": "https://localhost:8080/"
    },
    "id": "x2R_codMD680",
    "outputId": "8019bf46-89e3-4a17-adb5-9a43bf4dc9b5"
   },
   "outputs": [
    {
     "name": "stdout",
     "output_type": "stream",
     "text": [
      "\u001b[0m\u001b[01;32madd-userdic.sh\u001b[0m*  \u001b[01;32mconvert_for_using_store.sh\u001b[0m*  \u001b[01;32mmecab-bestn.sh\u001b[0m*\n"
     ]
    }
   ],
   "source": [
    "ls tools"
   ]
  },
  {
   "cell_type": "code",
   "execution_count": null,
   "metadata": {
    "id": "xMV_hOP7eTu5"
   },
   "outputs": [],
   "source": [
    "!bash ./tools/add-userdic.sh"
   ]
  },
  {
   "cell_type": "code",
   "execution_count": null,
   "metadata": {
    "id": "jbfVvDYWlQHH"
   },
   "outputs": [],
   "source": [
    "user_nnp = pd.read_csv('/content/mecab-ko-dic-2.1.1-20180720/user-nnp.csv')\n",
    "user_nnp"
   ]
  },
  {
   "cell_type": "code",
   "execution_count": null,
   "metadata": {
    "id": "h7qP5YUJ7nbl"
   },
   "outputs": [],
   "source": [
    "for i in user_nnp.대우:\n",
    "  if len(i)>=4:\n",
    "    user_nnp.loc[(user_nnp.대우 == i),'3821'] = 0\n",
    "\n",
    "  elif len(i) == 3:\n",
    "    user_nnp.loc[(user_nnp.대우 == i),'3821'] = 1\n",
    "\n",
    "  elif len(i) == 2:\n",
    "    user_nnp.loc[(user_nnp.대우 == i),'3821'] = 2"
   ]
  },
  {
   "cell_type": "code",
   "execution_count": null,
   "metadata": {
    "id": "Xz5HIiAq8-E0"
   },
   "outputs": [],
   "source": [
    "user_nnp.to_csv('/content/mecab-ko-dic-2.1.1-20180720/user-nnp.csv',index=False)"
   ]
  },
  {
   "cell_type": "code",
   "execution_count": null,
   "metadata": {
    "id": "Ch4HobcXeWqn"
   },
   "outputs": [],
   "source": [
    "!make clean"
   ]
  },
  {
   "cell_type": "code",
   "execution_count": null,
   "metadata": {
    "id": "40CIV_pWecSP"
   },
   "outputs": [],
   "source": [
    "!make install"
   ]
  },
  {
   "cell_type": "code",
   "execution_count": null,
   "metadata": {
    "id": "sEqIBhZAB_NT"
   },
   "outputs": [],
   "source": [
    "# 이제 mecab함수를 불러와서 토큰화 진행하면 됨.\n",
    "mecab=Mecab()"
   ]
  },
  {
   "cell_type": "code",
   "execution_count": null,
   "metadata": {
    "colab": {
     "base_uri": "https://localhost:8080/"
    },
    "id": "1wn-hEMeEEoP",
    "outputId": "b16c7c21-bea1-4b65-c0b8-95628ab27168"
   },
   "outputs": [
    {
     "name": "stdout",
     "output_type": "stream",
     "text": [
      "[('내일', 'NNP'), ('폭등', 'NNP'), ('예상', 'NNP'), ('되', 'VV'), ('는', 'ETM'), ('극비', 'NNG'), ('종목', 'NNP'), ('BEST', 'SL'), ('5', 'SN'), ('.', 'SF'), ('눌러서', 'VV+EC'), ('확인', 'NNG'), ('하', 'XSV'), ('기', 'ETN')]\n"
     ]
    }
   ],
   "source": [
    "print(mecab.pos('내일 폭등 예상되는 극비 종목 BEST 5 .  눌러서 확인하기'))"
   ]
  },
  {
   "cell_type": "code",
   "execution_count": null,
   "metadata": {
    "colab": {
     "base_uri": "https://localhost:8080/"
    },
    "id": "b6SDxrfMEE4T",
    "outputId": "16df05eb-6862-40c4-9acf-815ef64d0bf0"
   },
   "outputs": [
    {
     "name": "stdout",
     "output_type": "stream",
     "text": [
      "[('내일', 'NNP'), ('폭등', 'NNP'), ('기대', 'NNP'), ('주', 'NNP'), ('1등', 'NNP'), ('종목', 'NNP'), ('무료', 'NNP'), ('확인', 'NNG'), ('하', 'XSV'), ('기', 'ETN')]\n"
     ]
    }
   ],
   "source": [
    "print(mecab.pos('내일 폭등 기대주  1등 종목 무료 확인하기'))"
   ]
  }
 ],
 "metadata": {
  "colab": {
   "collapsed_sections": [],
   "name": "soynlp_mecab.ipynb",
   "provenance": [],
   "toc_visible": true
  },
  "kernelspec": {
   "display_name": "Python 3",
   "language": "python",
   "name": "python3"
  },
  "language_info": {
   "codemirror_mode": {
    "name": "ipython",
    "version": 3
   },
   "file_extension": ".py",
   "mimetype": "text/x-python",
   "name": "python",
   "nbconvert_exporter": "python",
   "pygments_lexer": "ipython3",
   "version": "3.8.5"
  }
 },
 "nbformat": 4,
 "nbformat_minor": 1
}
